{
 "cells": [
  {
   "cell_type": "markdown",
   "id": "0ba90e91-8343-4304-a1b6-5e1842ede727",
   "metadata": {},
   "source": [
    "# CKAN Database"
   ]
  },
  {
   "cell_type": "markdown",
   "id": "193bed32-eb44-4b2c-9260-e913434f3108",
   "metadata": {},
   "source": [
    "The CKAN Database is a commonly used and world renowned database where governments all around the world store their data. This notebook will serve as a means to parse through the api. \n",
    "</b>\n",
    "**Information on the api can be found here:** [ckan api guide](https://docs.ckan.org/en/latest/api/#example-importing-datasets-with-the-ckan-api). General information on the ckan database and its participants can be found here: [ckan official website](https://ckan.org)."
   ]
  },
  {
   "cell_type": "code",
   "execution_count": 2,
   "id": "f727e122-d6dc-4a6c-9564-f8a8dc4d926d",
   "metadata": {},
   "outputs": [],
   "source": [
    "import requests\n",
    "import pandas as pd"
   ]
  },
  {
   "cell_type": "code",
   "execution_count": null,
   "id": "6cefd823-42ff-4dfe-bce9-35ef3c5dd219",
   "metadata": {},
   "outputs": [],
   "source": []
  }
 ],
 "metadata": {
  "kernelspec": {
   "display_name": "Python 3 (ipykernel)",
   "language": "python",
   "name": "python3"
  },
  "language_info": {
   "codemirror_mode": {
    "name": "ipython",
    "version": 3
   },
   "file_extension": ".py",
   "mimetype": "text/x-python",
   "name": "python",
   "nbconvert_exporter": "python",
   "pygments_lexer": "ipython3",
   "version": "3.9.13"
  }
 },
 "nbformat": 4,
 "nbformat_minor": 5
}
